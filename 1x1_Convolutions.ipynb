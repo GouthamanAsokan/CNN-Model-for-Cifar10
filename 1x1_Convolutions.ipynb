{
  "nbformat": 4,
  "nbformat_minor": 0,
  "metadata": {
    "colab": {
      "name": "1x1_Convolutions.ipynb",
      "provenance": [],
      "collapsed_sections": []
    },
    "kernelspec": {
      "name": "python3",
      "display_name": "Python 3"
    }
  },
  "cells": [
    {
      "cell_type": "code",
      "metadata": {
        "id": "uP9Qlg0mt0_Z",
        "colab_type": "code",
        "colab": {
          "base_uri": "https://localhost:8080/",
          "height": 326
        },
        "outputId": "c9c13dcf-c9d4-41d2-fcab-125f3ab6b381"
      },
      "source": [
        "# Example of simple cnn model\n",
        "from keras.models import Sequential\n",
        "from keras.layers import Conv2D\n",
        "# create model\n",
        "model = Sequential()\n",
        "model.add(Conv2D(512, (3,3), padding='same', activation='relu', input_shape=(256, 256, 3)))\n",
        "# summarize model\n",
        "model.summary()"
      ],
      "execution_count": 1,
      "outputs": [
        {
          "output_type": "stream",
          "text": [
            "Using TensorFlow backend.\n"
          ],
          "name": "stderr"
        },
        {
          "output_type": "stream",
          "text": [
            "WARNING:tensorflow:From /usr/local/lib/python3.6/dist-packages/keras/backend/tensorflow_backend.py:66: The name tf.get_default_graph is deprecated. Please use tf.compat.v1.get_default_graph instead.\n",
            "\n",
            "WARNING:tensorflow:From /usr/local/lib/python3.6/dist-packages/keras/backend/tensorflow_backend.py:541: The name tf.placeholder is deprecated. Please use tf.compat.v1.placeholder instead.\n",
            "\n",
            "WARNING:tensorflow:From /usr/local/lib/python3.6/dist-packages/keras/backend/tensorflow_backend.py:4432: The name tf.random_uniform is deprecated. Please use tf.random.uniform instead.\n",
            "\n",
            "Model: \"sequential_1\"\n",
            "_________________________________________________________________\n",
            "Layer (type)                 Output Shape              Param #   \n",
            "=================================================================\n",
            "conv2d_1 (Conv2D)            (None, 256, 256, 512)     14336     \n",
            "=================================================================\n",
            "Total params: 14,336\n",
            "Trainable params: 14,336\n",
            "Non-trainable params: 0\n",
            "_________________________________________________________________\n"
          ],
          "name": "stdout"
        }
      ]
    },
    {
      "cell_type": "code",
      "metadata": {
        "id": "r_CX0MwguhYP",
        "colab_type": "code",
        "colab": {
          "base_uri": "https://localhost:8080/",
          "height": 221
        },
        "outputId": "a6c0a9c3-e49f-44dc-c94a-b569d896f151"
      },
      "source": [
        "# Example of a 1x1 filter for projection\n",
        "from keras.models import Sequential\n",
        "from keras.layers import Conv2D\n",
        "# create model\n",
        "model = Sequential()\n",
        "model.add(Conv2D(512, (3,3), padding='same', activation='relu', input_shape=(256, 256, 3)))\n",
        "model.add(Conv2D(512, (1,1), activation='relu'))\n",
        "# summarize model\n",
        "model.summary()"
      ],
      "execution_count": 2,
      "outputs": [
        {
          "output_type": "stream",
          "text": [
            "Model: \"sequential_2\"\n",
            "_________________________________________________________________\n",
            "Layer (type)                 Output Shape              Param #   \n",
            "=================================================================\n",
            "conv2d_2 (Conv2D)            (None, 256, 256, 512)     14336     \n",
            "_________________________________________________________________\n",
            "conv2d_3 (Conv2D)            (None, 256, 256, 512)     262656    \n",
            "=================================================================\n",
            "Total params: 276,992\n",
            "Trainable params: 276,992\n",
            "Non-trainable params: 0\n",
            "_________________________________________________________________\n"
          ],
          "name": "stdout"
        }
      ]
    },
    {
      "cell_type": "code",
      "metadata": {
        "id": "6ZF4X_mvvABu",
        "colab_type": "code",
        "colab": {
          "base_uri": "https://localhost:8080/",
          "height": 221
        },
        "outputId": "71e33b80-2ca3-40bc-c541-d46748e5ea95"
      },
      "source": [
        "# Example of a 1x1 filter for dimensionality reduction\n",
        "from keras.models import Sequential\n",
        "from keras.layers import Conv2D\n",
        "# create model\n",
        "model = Sequential()\n",
        "model.add(Conv2D(512, (3,3), padding='same', activation='relu', input_shape=(256, 256, 3)))\n",
        "model.add(Conv2D(64, (1,1), activation='relu'))\n",
        "# summarize model\n",
        "model.summary()"
      ],
      "execution_count": 3,
      "outputs": [
        {
          "output_type": "stream",
          "text": [
            "Model: \"sequential_3\"\n",
            "_________________________________________________________________\n",
            "Layer (type)                 Output Shape              Param #   \n",
            "=================================================================\n",
            "conv2d_4 (Conv2D)            (None, 256, 256, 512)     14336     \n",
            "_________________________________________________________________\n",
            "conv2d_5 (Conv2D)            (None, 256, 256, 64)      32832     \n",
            "=================================================================\n",
            "Total params: 47,168\n",
            "Trainable params: 47,168\n",
            "Non-trainable params: 0\n",
            "_________________________________________________________________\n"
          ],
          "name": "stdout"
        }
      ]
    },
    {
      "cell_type": "code",
      "metadata": {
        "id": "FHJUrOROvWWL",
        "colab_type": "code",
        "colab": {
          "base_uri": "https://localhost:8080/",
          "height": 221
        },
        "outputId": "2f4f71b0-5fbb-44af-9a3c-b84529787b16"
      },
      "source": [
        "# Example of a 1x1 filter to increase dimensionality\n",
        "from keras.models import Sequential\n",
        "from keras.layers import Conv2D\n",
        "# create model\n",
        "model = Sequential()\n",
        "model.add(Conv2D(512, (3,3), padding='same', activation='relu', input_shape=(256, 256, 3)))\n",
        "model.add(Conv2D(1024, (1,1), activation='relu'))\n",
        "# summarize model\n",
        "model.summary()"
      ],
      "execution_count": 4,
      "outputs": [
        {
          "output_type": "stream",
          "text": [
            "Model: \"sequential_4\"\n",
            "_________________________________________________________________\n",
            "Layer (type)                 Output Shape              Param #   \n",
            "=================================================================\n",
            "conv2d_6 (Conv2D)            (None, 256, 256, 512)     14336     \n",
            "_________________________________________________________________\n",
            "conv2d_7 (Conv2D)            (None, 256, 256, 1024)    525312    \n",
            "=================================================================\n",
            "Total params: 539,648\n",
            "Trainable params: 539,648\n",
            "Non-trainable params: 0\n",
            "_________________________________________________________________\n"
          ],
          "name": "stdout"
        }
      ]
    }
  ]
}